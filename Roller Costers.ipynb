{
 "cells": [
  {
   "cell_type": "code",
   "execution_count": 1,
   "metadata": {},
   "outputs": [],
   "source": [
    "import pandas as pd\n",
    "import matplotlib.pyplot as plt"
   ]
  },
  {
   "cell_type": "code",
   "execution_count": 2,
   "metadata": {},
   "outputs": [
    {
     "name": "stdout",
     "output_type": "stream",
     "text": [
      "   Rank          Name                       Park             Location  \\\n",
      "0     1  Boulder Dash             Lake Compounce       Bristol, Conn.   \n",
      "1     2       El Toro  Six Flags Great Adventure        Jackson, N.J.   \n",
      "2     3       Phoenix  Knoebels Amusement Resort        Elysburg, Pa.   \n",
      "3     4    The Voyage              Holiday World    Santa Claus, Ind.   \n",
      "4     5   Thunderhead                  Dollywood  Pigeon Forge, Tenn.   \n",
      "\n",
      "           Supplier  Year Built  Points  Year of Rank  \n",
      "0               CCI        2000    1333          2013  \n",
      "1           Intamin        2006    1302          2013  \n",
      "2  Dinn/PTC-Schmeck        1985    1088          2013  \n",
      "3     Gravity Group        2006    1086          2013  \n",
      "4              GCII        2004     923          2013  \n",
      "   Rank                Name                        Park           Location  \\\n",
      "0     1    Millennium Force                 Cedar Point     Sandusky, Ohio   \n",
      "1     2             Bizarro       Six Flags New England      Agawam, Mass.   \n",
      "2     3  Expedition GeForce                Holiday Park  Hassloch, Germany   \n",
      "3     4               Nitro   Six Flags Great Adventure      Jackson, N.J.   \n",
      "4     5    Apollo’s Chariot  Busch Gardens Williamsburg  Williamsburg, Va.   \n",
      "\n",
      "  Supplier  Year Built  Points  Year of Rank  \n",
      "0  Intamin        2000    1204          2013  \n",
      "1  Intamin        2000    1011          2013  \n",
      "2  Intamin        2001     598          2013  \n",
      "3      B&M        2001     596          2013  \n",
      "4      B&M        1999     542          2013  \n"
     ]
    }
   ],
   "source": [
    "# load rankings data here:\n",
    "Golden_Ticket_Award_Winners_Wood = pd.read_csv('Golden_Ticket_Award_Winners_Wood.csv')\n",
    "Golden_Ticket_Award_Winners_Steel = pd.read_csv('Golden_Ticket_Award_Winners_Steel.csv')\n",
    "print(Golden_Ticket_Award_Winners_Wood.head())\n",
    "print(Golden_Ticket_Award_Winners_Steel.head())"
   ]
  },
  {
   "cell_type": "code",
   "execution_count": 33,
   "metadata": {},
   "outputs": [],
   "source": [
    "# write function to plot rankings over time for 1 roller coaster here:\n",
    "def ranking(name, park, df):\n",
    "    rankings = df.loc[(df['Name'] == name) & (df['Park'] == park)]\n",
    "    plt.plot(rankings['Year of Rank'], rankings['Rank'])\n",
    "    ax = plt.subplot()\n",
    "    ax.invert_yaxis()\n",
    "    plt.show()"
   ]
  },
  {
   "cell_type": "code",
   "execution_count": 34,
   "metadata": {},
   "outputs": [
    {
     "name": "stderr",
     "output_type": "stream",
     "text": [
      "/Users/steven_unique/opt/anaconda3/lib/python3.7/site-packages/ipykernel_launcher.py:5: MatplotlibDeprecationWarning: Adding an axes using the same arguments as a previous axes currently reuses the earlier instance.  In a future version, a new instance will always be created and returned.  Meanwhile, this warning can be suppressed, and the future behavior ensured, by passing a unique label to each axes instance.\n",
      "  \"\"\"\n"
     ]
    },
    {
     "data": {
      "image/png": "[encoded data removed]",
      "text/plain": [
       "<Figure size 432x288 with 1 Axes>"
      ]
     },
     "metadata": {
      "needs_background": "light"
     },
     "output_type": "display_data"
    },
    {
     "name": "stderr",
     "output_type": "stream",
     "text": [
      "/Users/steven_unique/opt/anaconda3/lib/python3.7/site-packages/ipykernel_launcher.py:5: MatplotlibDeprecationWarning: Adding an axes using the same arguments as a previous axes currently reuses the earlier instance.  In a future version, a new instance will always be created and returned.  Meanwhile, this warning can be suppressed, and the future behavior ensured, by passing a unique label to each axes instance.\n",
      "  \"\"\"\n"
     ]
    },
    {
     "data": {
      "image/png": "[encoded data removed]",
      "text/plain": [
       "<Figure size 432x288 with 1 Axes>"
      ]
     },
     "metadata": {
      "needs_background": "light"
     },
     "output_type": "display_data"
    }
   ],
   "source": [
    "ranking(\"El Toro\", \"Six Flags Great Adventure\", Golden_Ticket_Award_Winners_Wood)\n",
    "ranking(\"Boulder Dash\", \"Lake Compounce\", Golden_Ticket_Award_Winners_Wood)"
   ]
  },
  {
   "cell_type": "code",
   "execution_count": null,
   "metadata": {},
   "outputs": [],
   "source": [
    "ranking(\"El Toro\", \"Six Flags Great Adventure\", Golden_Ticket_Award_Winners_Wood)"
   ]
  }
 ],
 "metadata": {
  "kernelspec": {
   "display_name": "Python 3",
   "language": "python",
   "name": "python3"
  },
  "language_info": {
   "codemirror_mode": {
    "name": "ipython",
    "version": 3
   },
   "file_extension": ".py",
   "mimetype": "text/x-python",
   "name": "python",
   "nbconvert_exporter": "python",
   "pygments_lexer": "ipython3",
   "version": "3.7.6"
  }
 },
 "nbformat": 4,
 "nbformat_minor": 4
}
