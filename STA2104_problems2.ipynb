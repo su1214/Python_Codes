{
 "cells": [
  {
   "cell_type": "markdown",
   "metadata": {},
   "source": [
    "1. Create the following tuple object 'price.'"
   ]
  },
  {
   "cell_type": "code",
   "execution_count": 17,
   "metadata": {},
   "outputs": [
    {
     "name": "stdout",
     "output_type": "stream",
     "text": [
      "(110, 130, 140, 160, 170, 180)\n",
      "(100, 110, 130, 140, 160, 170, 180, 190)\n",
      "[100, 130, 160, 180]\n",
      "(100, 110, 130, 140, 0, 0, 0, 160, 170, 180, 190)\n"
     ]
    }
   ],
   "source": [
    "price = (180,130,110,160,140,170)\n",
    "#(1)\n",
    "price = list(price)\n",
    "price.sort()\n",
    "price = tuple(price)\n",
    "print(price)\n",
    "\n",
    "#2\n",
    "price = (100,) + price + (190,)\n",
    "print(price)\n",
    "\n",
    "#3\n",
    "price_2 = list(price[::2])\n",
    "print(price_2)\n",
    "\n",
    "#4\n",
    "170 in price_2\n",
    "\n",
    "#5\n",
    "price = price[0:4] + (0,0,0) + price[4:]\n",
    "print(price)"
   ]
  },
  {
   "cell_type": "markdown",
   "metadata": {},
   "source": [
    "2.\tCreate the list object ‘scores’ as below. Use sequence unpacking to assign the first 3 and the remaining 7 items of ‘scores’ to list object ‘scr1’ and ‘scr2’, respectively. "
   ]
  },
  {
   "cell_type": "code",
   "execution_count": 18,
   "metadata": {},
   "outputs": [
    {
     "name": "stdout",
     "output_type": "stream",
     "text": [
      "[8.8, 8.9, 8.7],[9.2, 9.3, 9.7, 9.9, 9.5, 7.8, 9.4]\n"
     ]
    }
   ],
   "source": [
    "scores = [8.8, 8.9, 8.7, 9.2, 9.3, 9.7, 9.9, 9.5, 7.8, 9.4]\n",
    "scr1, scr2 = scores[:3], scores[3:]\n",
    "print(scr1, scr2, sep=\",\")"
   ]
  },
  {
   "cell_type": "markdown",
   "metadata": {},
   "source": [
    "3. Explain why the following expression raises an error.\n",
    "    1. `dict_x = { {'a':10} : 5, 'abc': {'c':20} }`\n",
    "    2. `dict_y = { (1,) : 10, (2,): 20, (3, ): 30, (4, ): 40 } ; dict_y[ -2 : ]`"
   ]
  },
  {
   "cell_type": "code",
   "execution_count": null,
   "metadata": {},
   "outputs": [],
   "source": [
    "#1 keys have to be immutable objects\n",
    "#2 unordered. slicing is not available"
   ]
  },
  {
   "cell_type": "markdown",
   "metadata": {},
   "source": [
    "4. Create a dictionary ‘icecream’ with [price, inventory] for each ice cream item by the following code."
   ]
  },
  {
   "cell_type": "code",
   "execution_count": 28,
   "metadata": {},
   "outputs": [
    {
     "name": "stdout",
     "output_type": "stream",
     "text": [
      "{'cheery': [12, 100], 'cookies': [13, 200], 'greentea': [15, 140], 'mango': [10, 200]}\n",
      "price=  12  & stock=  100\n",
      "{'cheery': [12, 100], 'cookies': [13, 200], 'greentea': [15, 140], 'mango': [10, 200], 'strawberry': (12, 170), 'pistachio': [15, 100], 'Strawberry': [12, 170]}\n",
      "{'cheery': [12, 100], 'cookies': [13, 200], 'greentea': [15, 140], 'mango': [10, 200], 'strawberry': (12, 170), 'pistachio': [15, 100], 'Strawberry': [12, 170]}\n"
     ]
    }
   ],
   "source": [
    "icecream={'cheery': [12,100], 'cookies': [18,200], 'greentea': [15,140], 'mango': [10,200]}\n",
    "#1\n",
    "icecream['cookies'][0] = 13\n",
    "print (icecream)\n",
    "#2\n",
    "print('price= ', icecream['cheery'][0], ' & stock= ', icecream['cheery'][1])\n",
    "#3\n",
    "icecream['strawberry'] = (12,170)\n",
    "icecream['pistachio'] = (15,100)\n",
    "#or\n",
    "icecream.update({'Strawberry':[12,170], 'pistachio':[15, 100]})\n",
    "print (icecream)\n",
    "#4\n",
    "#there's no 'coconut' key in icecream\n",
    "#5\n",
    "icecream2 = icecream.copy()\n",
    "print(icecream2)"
   ]
  },
  {
   "cell_type": "markdown",
   "metadata": {},
   "source": [
    "5. Create ‘d1’ and ‘d2’ by the following code. "
   ]
  },
  {
   "cell_type": "code",
   "execution_count": 46,
   "metadata": {},
   "outputs": [
    {
     "name": "stdout",
     "output_type": "stream",
     "text": [
      "[1, 2, 2, 4, 7, 8]\n",
      "{1, 2, 3, 7}\n",
      "False\n",
      "False\n"
     ]
    },
    {
     "data": {
      "text/plain": [
       "{1, 2, 7}"
      ]
     },
     "execution_count": 46,
     "metadata": {},
     "output_type": "execute_result"
    }
   ],
   "source": [
    "d1={'key1': 1, 'key2': 3, 'key3': 2, 'key10': 7 }\n",
    "d2={'key3': 1, 'key2': 2, 'key7': 2, 'key5': 4, 'key1': 7, 'key9': 8}\n",
    "\n",
    "#1\n",
    "d2v = list(d2.values())\n",
    "d2v.sort()\n",
    "d2v[-3:]\n",
    "print(d2v)\n",
    "#2\n",
    "print(set(d1.values()))\n",
    "#3\n",
    "print(list(d1.keys()) in list(d2.keys()))\n",
    "#or\n",
    "d1k = set(d1.keys() );d2k = set(d2.keys()); print(d1k <= d2k)\n",
    "#4\n",
    "4 in list(d1.values())\n",
    "#5\n",
    "d1v = set(d1.values()); d2v = set(d2.values())\n",
    "d1v & d2v\n",
    "#6\n",
    "# can't use indexing for set"
   ]
  },
  {
   "cell_type": "code",
   "execution_count": null,
   "metadata": {},
   "outputs": [],
   "source": []
  },
  {
   "cell_type": "code",
   "execution_count": null,
   "metadata": {},
   "outputs": [],
   "source": []
  },
  {
   "cell_type": "code",
   "execution_count": null,
   "metadata": {},
   "outputs": [],
   "source": []
  },
  {
   "cell_type": "code",
   "execution_count": null,
   "metadata": {},
   "outputs": [],
   "source": []
  }
 ],
 "metadata": {
  "kernelspec": {
   "display_name": "Python 3",
   "language": "python",
   "name": "python3"
  },
  "language_info": {
   "codemirror_mode": {
    "name": "ipython",
    "version": 3
   },
   "file_extension": ".py",
   "mimetype": "text/x-python",
   "name": "python",
   "nbconvert_exporter": "python",
   "pygments_lexer": "ipython3",
   "version": "3.7.6"
  }
 },
 "nbformat": 4,
 "nbformat_minor": 4
}
