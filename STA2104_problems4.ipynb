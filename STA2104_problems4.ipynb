{
 "cells": [
  {
   "cell_type": "code",
   "execution_count": 10,
   "metadata": {},
   "outputs": [
    {
     "data": {
      "text/plain": [
       "3"
      ]
     },
     "execution_count": 10,
     "metadata": {},
     "output_type": "execute_result"
    }
   ],
   "source": [
    "#1\n",
    "def count_odd(L):\n",
    "    a = 0\n",
    "    for i in L:\n",
    "        if i%2 != 0:\n",
    "            a += 1\n",
    "    return a\n",
    "count_odd(L=[1,2,5,7,8])"
   ]
  },
  {
   "cell_type": "code",
   "execution_count": 12,
   "metadata": {},
   "outputs": [
    {
     "data": {
      "text/plain": [
       "1.414213562373095"
      ]
     },
     "execution_count": 12,
     "metadata": {},
     "output_type": "execute_result"
    }
   ],
   "source": [
    "#2\n",
    "def mySqrt(n):\n",
    "    old = 0\n",
    "    new = n/2\n",
    "    while abs(old-new) > 1e-10 :\n",
    "        old = new\n",
    "        new = 1/2 *( old + n/old )\n",
    "    return new\n",
    "mySqrt(2)"
   ]
  },
  {
   "cell_type": "code",
   "execution_count": 21,
   "metadata": {},
   "outputs": [
    {
     "name": "stdout",
     "output_type": "stream",
     "text": [
      "Grade is  C\n",
      "Grade is  C !!\n",
      "Grade is  B !!\n",
      "Grade is  F !!\n",
      "Input your score!!\n"
     ]
    }
   ],
   "source": [
    "#3\n",
    "#(2)\n",
    "def grading(score):\n",
    "    if score == None:\n",
    "        print('Input your score!!')\n",
    "    elif score < 0 or score > 100:\n",
    "        print('Score must be a number between 0 and 100!!')\n",
    "    elif score > 90:\n",
    "        grade = 'A'\n",
    "    elif score > 80:\n",
    "        grade = 'B'\n",
    "    elif score > 70:\n",
    "        grade = 'C'\n",
    "    elif score > 60:\n",
    "        grade = 'D'\n",
    "    else:\n",
    "        grade = 'F'\n",
    "    print('Grade is ',grade)\n",
    "grading(75)\n",
    "#(2)\n",
    "def grading(score, maxscore=100):\n",
    "    if score == None:\n",
    "        print('Input your score!!')\n",
    "    else:\n",
    "        if score < 0 or score > maxscore:\n",
    "            print('Score must be a number between 0 and ', maxscore,'!!')\n",
    "        else:\n",
    "            if maxscore != 100:\n",
    "                score = score * 100 / maxscore\n",
    "            if score > 90:\n",
    "                grade = 'A'\n",
    "            elif score > 80:\n",
    "                grade = 'B'\n",
    "            elif score > 70:\n",
    "                grade = 'C'\n",
    "            elif score > 60:\n",
    "                grade = 'D'\n",
    "            else:\n",
    "                grade = 'F'\n",
    "            print('Grade is ',grade, '!!')\n",
    "grading(75)\n",
    "grading(0.85,1)\n",
    "grading(5,10)\n",
    "grading(None,maxscore=1)\n",
    "#(3)\n",
    "#5 is passed to score already\n",
    "#the unnamed arguments must come before the named ones."
   ]
  },
  {
   "cell_type": "code",
   "execution_count": null,
   "metadata": {},
   "outputs": [],
   "source": [
    "#4\n",
    "#option 3. Since _init_.py is empty, it does not import all the paths."
   ]
  }
 ],
 "metadata": {
  "kernelspec": {
   "display_name": "Python 3",
   "language": "python",
   "name": "python3"
  },
  "language_info": {
   "codemirror_mode": {
    "name": "ipython",
    "version": 3
   },
   "file_extension": ".py",
   "mimetype": "text/x-python",
   "name": "python",
   "nbconvert_exporter": "python",
   "pygments_lexer": "ipython3",
   "version": "3.7.6"
  }
 },
 "nbformat": 4,
 "nbformat_minor": 4
}
