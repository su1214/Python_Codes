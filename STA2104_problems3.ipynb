{
 "cells": [
  {
   "cell_type": "code",
   "execution_count": 1,
   "metadata": {},
   "outputs": [
    {
     "data": {
      "text/plain": [
       "[1045,\n",
       " 1100,\n",
       " 1155,\n",
       " 1210,\n",
       " 1265,\n",
       " 1320,\n",
       " 1375,\n",
       " 1430,\n",
       " 1485,\n",
       " 1540,\n",
       " 1595,\n",
       " 1650,\n",
       " 1705,\n",
       " 1760,\n",
       " 1815,\n",
       " 1870,\n",
       " 1925,\n",
       " 1980]"
      ]
     },
     "execution_count": 1,
     "metadata": {},
     "output_type": "execute_result"
    }
   ],
   "source": [
    "#1\n",
    "[i for i in range(1000,2001) if i%11 == 0 and i%5 == 0]"
   ]
  },
  {
   "cell_type": "code",
   "execution_count": 2,
   "metadata": {},
   "outputs": [
    {
     "name": "stdout",
     "output_type": "stream",
     "text": [
      "5 4\n",
      "Number of even numbers : 4\n",
      "Number of odd numbers : 5\n"
     ]
    }
   ],
   "source": [
    "#2\n",
    "numbers = (1, 2, 3, 4, 5, 6, 7, 8, 9)\n",
    "count_odd = 0\n",
    "count_even = 0\n",
    "for i in numbers:\n",
    "    if i % 2 == 0:\n",
    "        count_even += 1\n",
    "    else:\n",
    "        count_odd += 1\n",
    "        \n",
    "print(count_odd, count_even)\n",
    "\n",
    "count_odd = 0\n",
    "count_even = 0\n",
    "for x in numbers:\n",
    "    if x % 2:\n",
    "        count_odd+=1\n",
    "    else:\n",
    "        count_even+=1\n",
    "print(\"Number of even numbers :\",count_even)\n",
    "print(\"Number of odd numbers :\",count_odd)"
   ]
  },
  {
   "cell_type": "code",
   "execution_count": 3,
   "metadata": {},
   "outputs": [
    {
     "name": "stdout",
     "output_type": "stream",
     "text": [
      "[1, 1, 2, 3, 5, 8, 13, 21, 34, 55, 89]\n"
     ]
    }
   ],
   "source": [
    "#3\n",
    "Fibonacci = [1]\n",
    "x = 1\n",
    "while x < 100:\n",
    "    Fibonacci.append(x)\n",
    "    x += Fibonacci[-2]\n",
    "    \n",
    "print(Fibonacci)"
   ]
  },
  {
   "cell_type": "code",
   "execution_count": 4,
   "metadata": {},
   "outputs": [
    {
     "name": "stdout",
     "output_type": "stream",
     "text": [
      "Input number of rows: 3\n",
      "Input number of columns: 4\n"
     ]
    },
    {
     "data": {
      "text/plain": [
       "[[0, 0, 0, 0], [0, 1, 2, 3], [0, 2, 4, 6]]"
      ]
     },
     "execution_count": 4,
     "metadata": {},
     "output_type": "execute_result"
    }
   ],
   "source": [
    "#4\n",
    "row_num = int(input(\"Input number of rows: \"))\n",
    "col_num = int(input(\"Input number of columns: \"))\n",
    "multi_list = multi_list = [[0 for i in range(col_num)] for j in range(row_num)]\n",
    "for row in range(row_num):\n",
    "    for col in range(col_num): \n",
    "        multi_list[row][col]= row*col\n",
    "multi_list"
   ]
  },
  {
   "cell_type": "code",
   "execution_count": 5,
   "metadata": {},
   "outputs": [
    {
     "name": "stdout",
     "output_type": "stream",
     "text": [
      "Input a number: 6\n",
      "6  x  1  =  6\n",
      "6  x  2  =  12\n",
      "6  x  3  =  18\n",
      "6  x  4  =  24\n",
      "6  x  5  =  30\n",
      "6  x  6  =  36\n",
      "6  x  7  =  42\n",
      "6  x  8  =  48\n",
      "6  x  9  =  54\n"
     ]
    }
   ],
   "source": [
    "#5\n",
    "number = int(input(\"Input a number: \"))\n",
    "for i in range(1, 10):\n",
    "    print(number, \" x \", i, \" = \", number*i)\n"
   ]
  },
  {
   "cell_type": "code",
   "execution_count": 6,
   "metadata": {},
   "outputs": [
    {
     "name": "stdout",
     "output_type": "stream",
     "text": [
      "Input a number: 30\n",
      "[30, 15, 46, 23, 70, 35, 106, 53, 160, 80, 40, 20, 10, 5, 16, 8, 4, 2, 1]\n"
     ]
    }
   ],
   "source": [
    "#6\n",
    "x = int(input(\"Input a number: \"))\n",
    "X = [x]\n",
    "while x != 1:\n",
    "    if x%2 == 0:\n",
    "        x = int(x/2)\n",
    "    else:\n",
    "        x = 3*x+1\n",
    "    X.append(x)\n",
    "print(X)"
   ]
  },
  {
   "cell_type": "code",
   "execution_count": 7,
   "metadata": {},
   "outputs": [
    {
     "name": "stdout",
     "output_type": "stream",
     "text": [
      "[[1, 5], [1, 6], [1, 7], [1, 8], [2, 5], [2, 6], [2, 7], [2, 8], [3, 5], [3, 6], [3, 7], [3, 8], [4, 5], [4, 6], [4, 7], [4, 8]]\n",
      "[[1, 7], [1, 8], [2, 6], [2, 7], [2, 8], [3, 5], [3, 6], [3, 7], [3, 8], [4, 5], [4, 6], [4, 7], [4, 8]]\n"
     ]
    }
   ],
   "source": [
    "#7\n",
    "x = [1,2,3,4]; y = [5,6,7,8]\n",
    "#(1)\n",
    "z = [[i,j] for i in x for j in y]\n",
    "print(z)\n",
    "#(2)\n",
    "z = [[i,j] for i in x for j in y if i+j >= 8]\n",
    "print(z)"
   ]
  },
  {
   "cell_type": "code",
   "execution_count": 8,
   "metadata": {},
   "outputs": [
    {
     "name": "stdout",
     "output_type": "stream",
     "text": [
      "Input a string :Python 3.3\n",
      "Letters  6\n",
      "Digits  2\n"
     ]
    }
   ],
   "source": [
    "#8\n",
    "s = input(\"Input a string :\")\n",
    "d=l=0\n",
    "for c in s:\n",
    "    if c.isnumeric():\n",
    "        d=d+1\n",
    "    elif c.isalpha():\n",
    "        l=l+1\n",
    "    else:\n",
    "        next\n",
    "print(\"Letters \", l)\n",
    "print(\"Digits \", d)"
   ]
  },
  {
   "cell_type": "code",
   "execution_count": null,
   "metadata": {},
   "outputs": [],
   "source": []
  },
  {
   "cell_type": "code",
   "execution_count": null,
   "metadata": {},
   "outputs": [],
   "source": []
  }
 ],
 "metadata": {
  "kernelspec": {
   "display_name": "Python 3",
   "language": "python",
   "name": "python3"
  },
  "language_info": {
   "codemirror_mode": {
    "name": "ipython",
    "version": 3
   },
   "file_extension": ".py",
   "mimetype": "text/x-python",
   "name": "python",
   "nbconvert_exporter": "python",
   "pygments_lexer": "ipython3",
   "version": "3.7.6"
  }
 },
 "nbformat": 4,
 "nbformat_minor": 4
}
