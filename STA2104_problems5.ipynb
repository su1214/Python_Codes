{
 "cells": [
  {
   "cell_type": "code",
   "execution_count": 1,
   "metadata": {},
   "outputs": [],
   "source": [
    "import numpy as np"
   ]
  },
  {
   "cell_type": "code",
   "execution_count": 14,
   "metadata": {},
   "outputs": [
    {
     "name": "stdout",
     "output_type": "stream",
     "text": [
      "[[26 29 14 25 28]\n",
      " [26 20 15 28 11]]\n",
      "[[[ 0.39009502]\n",
      "  [-1.19450646]\n",
      "  [ 0.76144943]]\n",
      "\n",
      " [[-1.5027885 ]\n",
      "  [-1.05234584]\n",
      "  [ 1.73042922]]\n",
      "\n",
      " [[-0.85569705]\n",
      "  [-0.26952816]\n",
      "  [-0.96489147]]]\n",
      "[0.09913467 0.16196042 0.72187477 0.40220962 0.00323071 0.38186983]\n",
      "[[1.  0.  0.  0.  0.  0.  0. ]\n",
      " [0.  1.5 0.  0.  0.  0.  0. ]\n",
      " [0.  0.  2.  0.  0.  0.  0. ]\n",
      " [0.  0.  0.  2.5 0.  0.  0. ]\n",
      " [0.  0.  0.  0.  3.  0.  0. ]\n",
      " [0.  0.  0.  0.  0.  3.5 0. ]\n",
      " [0.  0.  0.  0.  0.  0.  4. ]]\n"
     ]
    }
   ],
   "source": [
    "#1\n",
    "#(1)\n",
    "one = np.random.randint(10,31,(2,5))\n",
    "print(one)\n",
    "#(2)\n",
    "two = np.random.randn(3,3,1)\n",
    "print(two)\n",
    "#(3)\n",
    "three = np.random.rand(6)\n",
    "print(three)\n",
    "#(4)\n",
    "four = np.diag(np.arange(1,4.5,0.5))\n",
    "print(four)"
   ]
  },
  {
   "cell_type": "code",
   "execution_count": 20,
   "metadata": {},
   "outputs": [
    {
     "name": "stdout",
     "output_type": "stream",
     "text": [
      "[[0 0 0 0 0 0 0 0]\n",
      " [1 0 1 0 1 0 1 0]\n",
      " [0 0 0 0 0 0 0 0]\n",
      " [1 0 1 0 1 0 1 0]\n",
      " [0 0 0 0 0 0 0 0]\n",
      " [1 0 1 0 1 0 1 0]\n",
      " [0 0 0 0 0 0 0 0]\n",
      " [1 0 1 0 1 0 1 0]]\n",
      "[[0 1 0 1 0 1 0 1]\n",
      " [1 0 1 0 1 0 1 0]\n",
      " [0 1 0 1 0 1 0 1]\n",
      " [1 0 1 0 1 0 1 0]\n",
      " [0 1 0 1 0 1 0 1]\n",
      " [1 0 1 0 1 0 1 0]\n",
      " [0 1 0 1 0 1 0 1]\n",
      " [1 0 1 0 1 0 1 0]]\n"
     ]
    }
   ],
   "source": [
    "#2\n",
    "Z = np.zeros((8,8), dtype=np.int64)\n",
    "#(1)\n",
    "Z[1::2,0::2] = 1\n",
    "print(Z)\n",
    "#(2)\n",
    "Z[::2,1::2] = 1\n",
    "print(Z)"
   ]
  },
  {
   "cell_type": "code",
   "execution_count": 31,
   "metadata": {},
   "outputs": [
    {
     "name": "stdout",
     "output_type": "stream",
     "text": [
      "[[ 0  1  2  3  4  5]\n",
      " [10 11 12 13 14 15]\n",
      " [20 21 22 23 24 25]\n",
      " [30 31 32 33 34 35]\n",
      " [40 41 42 43 44 45]\n",
      " [50 51 52 53 54 55]]\n",
      "[3 4]\n",
      "[[44 45]\n",
      " [54 55]]\n",
      "[ 2 12 22 32 42 52]\n",
      "[[ 2]\n",
      " [12]\n",
      " [22]\n",
      " [32]\n",
      " [42]\n",
      " [52]]\n",
      "[[ 0  1  0  3  4  5]\n",
      " [10 11  1 13 14 15]\n",
      " [20 21  2 23 24 25]\n",
      " [30 31  3 33 34 35]\n",
      " [40 41  4 43 44 45]\n",
      " [50 51  5 53 54 55]]\n",
      "[[20  2 24]\n",
      " [40  4 44]]\n",
      "[[ 0  1  0  3  4  5]\n",
      " [10 11  1 13 14 15]\n",
      " [ 1 21  2 23  3 25]\n",
      " [30 31  3 33 34 35]\n",
      " [ 4 41  5 43  6 45]\n",
      " [50 51  5 53 54 55]]\n"
     ]
    }
   ],
   "source": [
    "#3\n",
    "TH = np.array([np.arange(6)]*6) + np.arange(0, 51, 10).reshape(6, 1)\n",
    "print(TH)\n",
    "#(1)\n",
    "print(TH[0,3:5])\n",
    "#(2)\n",
    "print(TH[4:,4:])\n",
    "#(3)\n",
    "print(TH[:,2])\n",
    "#(4)\n",
    "print(TH[:,2:3])\n",
    "#(5)\n",
    "TH[:,2] = np.arange(6)\n",
    "print(TH)\n",
    "#(6)\n",
    "print(TH[2::2,::2])\n",
    "#(7)\n",
    "TH[2::2,::2] = np.arange(1,7).reshape(2,3)\n",
    "print(TH)"
   ]
  },
  {
   "cell_type": "code",
   "execution_count": 32,
   "metadata": {},
   "outputs": [
    {
     "name": "stdout",
     "output_type": "stream",
     "text": [
      "[0.         0.85356027 0.74198909 0.46266276 1.        ]\n"
     ]
    }
   ],
   "source": [
    "#4\n",
    "Z = np.random.rand(5)\n",
    "Zmax, Zmin = Z.max(), Z.min()\n",
    "Z = (Z - Zmin)/(Zmax - Zmin)\n",
    "print(Z)"
   ]
  },
  {
   "cell_type": "code",
   "execution_count": 35,
   "metadata": {},
   "outputs": [
    {
     "name": "stdout",
     "output_type": "stream",
     "text": [
      "[5.3784674  4.60932127 6.52017058 3.60018874 6.34793795 2.5407615\n",
      " 8.33548444 8.68113047 1.1500958  7.65630693]\n",
      "[5. 4. 6. 3. 6. 2. 8. 8. 1. 7.]\n",
      "[5. 4. 6. 3. 6. 2. 8. 8. 1. 7.]\n",
      "[5. 4. 6. 3. 6. 2. 8. 8. 1. 7.]\n"
     ]
    }
   ],
   "source": [
    "#5\n",
    "Z = np.random.uniform(0,10,10)\n",
    "print(Z)\n",
    "print(Z - Z%1)\n",
    "print(np.floor(Z))\n",
    "print(np.ceil(Z)-1)"
   ]
  },
  {
   "cell_type": "code",
   "execution_count": 37,
   "metadata": {},
   "outputs": [
    {
     "name": "stdout",
     "output_type": "stream",
     "text": [
      "[  0   1  -2   3  -4   5  -6   7  -8   9 -10  11 -12  13 -14  15 -16  17\n",
      " -18  19 -20  21 -22  23 -24  25 -26  27 -28  29 -30  31 -32  33 -34  35\n",
      " -36  37 -38  39 -40  41 -42  43 -44  45 -46  47 -48  49 -50  51 -52  53\n",
      " -54  55 -56  57 -58  59 -60  61 -62  63 -64  65 -66  67 -68  69 -70  71\n",
      " -72  73 -74  75 -76  77 -78  79 -80  81 -82  83 -84  85 -86  87 -88  89\n",
      " -90  91 -92  93 -94  95 -96  97 -98  99]\n"
     ]
    }
   ],
   "source": [
    "#6\n",
    "NP = np.arange(100)\n",
    "NP[NP%2==0] = -1*NP[NP%2==0]\n",
    "print(NP)"
   ]
  },
  {
   "cell_type": "code",
   "execution_count": 38,
   "metadata": {},
   "outputs": [
    {
     "name": "stdout",
     "output_type": "stream",
     "text": [
      "[68.  69.8 71.6 73.4 75.2 77.  78.8 80.6 82.4 84.2 86. ]\n"
     ]
    }
   ],
   "source": [
    "#7\n",
    "Celsius = np.arange(20,31)\n",
    "Fahrenheit = 9*Celsius/5+32\n",
    "print(Fahrenheit)"
   ]
  },
  {
   "cell_type": "code",
   "execution_count": 42,
   "metadata": {},
   "outputs": [
    {
     "name": "stdout",
     "output_type": "stream",
     "text": [
      "[[-1.0856306   0.99734545  0.2829785  -1.50629471]\n",
      " [-0.57860025  1.65143654 -2.42667924 -0.42891263]\n",
      " [ 1.26593626 -0.8667404  -0.67888615 -0.09470897]\n",
      " [ 1.49138963 -0.638902   -0.44398196 -0.43435128]\n",
      " [ 2.20593008  2.18678609  1.0040539   0.3861864 ]\n",
      " [ 0.73736858  1.49073203 -0.93583387  1.17582904]]\n",
      "[[-1.0856306   0.99734545  0.2829785  -1.50629471  0.33768877]\n",
      " [-0.57860025  1.65143654 -2.42667924 -0.42891263  0.56068263]\n",
      " [ 1.26593626 -0.8667404  -0.67888615 -0.09470897  3.54641154]\n",
      " [ 1.49138963 -0.638902   -0.44398196 -0.43435128  4.44326571]\n",
      " [ 2.20593008  2.18678609  1.0040539   0.3861864   9.07869158]\n",
      " [ 0.73736858  1.49073203 -0.93583387  1.17582904  2.09042747]]\n"
     ]
    }
   ],
   "source": [
    "np.random.seed(123)\n",
    "mat = np.random.randn(6, 4)\n",
    "print(mat)\n",
    "#8\n",
    "mat = np.hstack([mat, np.exp(mat[:,0])[:,np.newaxis]])\n",
    "print(mat)"
   ]
  },
  {
   "cell_type": "code",
   "execution_count": 43,
   "metadata": {},
   "outputs": [
    {
     "name": "stdout",
     "output_type": "stream",
     "text": [
      "[[-8.56306033e-02 -2.65455342e-03  1.28297850e+00 -2.50629471e+00\n",
      "   1.33768877e+00]\n",
      " [ 4.21399748e-01  6.51436537e-01 -1.42667924e+00 -1.42891263e+00\n",
      "   1.56068263e+00]\n",
      " [ 2.26593626e+00 -1.86674040e+00  3.21113848e-01 -1.09470897e+00\n",
      "   4.54641154e+00]\n",
      " [ 2.49138963e+00 -1.63890200e+00  5.56018040e-01 -1.43435128e+00\n",
      "   5.44326571e+00]\n",
      " [ 3.20593008e+00  1.18678609e+00  2.00405390e+00 -6.13813601e-01\n",
      "   1.00786916e+01]\n",
      " [ 1.73736858e+00  4.90732028e-01  6.41661316e-02  1.75829045e-01\n",
      "   3.09042747e+00]]\n"
     ]
    }
   ],
   "source": [
    "#9\n",
    "mat[:,::2] += 1\n",
    "mat[:,1::2] += -1\n",
    "mat\n",
    "#or mat = mat+np.array([1,-1,1,-1,1])"
   ]
  },
  {
   "cell_type": "code",
   "execution_count": 44,
   "metadata": {},
   "outputs": [
    {
     "data": {
      "text/plain": [
       "array([[-8.56306033e-02, -2.65455342e-03,  1.28297850e+00,\n",
       "        -2.50629471e+00,  1.33768877e+00],\n",
       "       [ 4.21399748e-01,  6.51436537e-01, -1.42667924e+00,\n",
       "        -1.42891263e+00,  1.56068263e+00],\n",
       "       [ 2.26593626e+00, -1.86674040e+00,  3.21113848e-01,\n",
       "        -1.09470897e+00,  4.54641154e+00],\n",
       "       [ 2.49138963e+00, -1.63890200e+00,  5.56018040e-01,\n",
       "        -1.43435128e+00,  5.44326571e+00],\n",
       "       [ 3.20593008e+00,  1.18678609e+00,  2.00405390e+00,\n",
       "        -6.13813601e-01,  1.00786916e+01],\n",
       "       [ 1.73736858e+00,  4.90732028e-01,  6.41661316e-02,\n",
       "         1.75829045e-01,  3.09042747e+00]])"
      ]
     },
     "execution_count": 44,
     "metadata": {},
     "output_type": "execute_result"
    }
   ],
   "source": [
    "#10\n",
    "mat*np.array([1/10,1/10,1/10,10,10,10]).reshape(6,1)\n",
    "mat"
   ]
  },
  {
   "cell_type": "code",
   "execution_count": 49,
   "metadata": {},
   "outputs": [
    {
     "name": "stdout",
     "output_type": "stream",
     "text": [
      "[ 2.00165242  0.24403874  0.43856594 -1.2618108   3.81841951]\n",
      "[ 2.37866294  0.57108428  0.91949827 -0.85426128  4.99483862]\n"
     ]
    }
   ],
   "source": [
    "#11\n",
    "print(np.median( mat , axis=0))\n",
    "print(np.percentile( mat , q=70, axis=0))"
   ]
  },
  {
   "cell_type": "code",
   "execution_count": 52,
   "metadata": {},
   "outputs": [
    {
     "name": "stdout",
     "output_type": "stream",
     "text": [
      "[ 2.0040539   1.2829785   0.55601804  0.32111385  0.06416613 -1.42667924]\n"
     ]
    }
   ],
   "source": [
    "#12\n",
    "print(np.sort(mat[:,2])[::-1])"
   ]
  },
  {
   "cell_type": "code",
   "execution_count": 54,
   "metadata": {},
   "outputs": [
    {
     "name": "stdout",
     "output_type": "stream",
     "text": [
      "[2 1 2 2 4 2]\n"
     ]
    }
   ],
   "source": [
    "#13\n",
    "print(np.sum(np.exp(mat)>3, axis=1))"
   ]
  },
  {
   "cell_type": "code",
   "execution_count": 56,
   "metadata": {},
   "outputs": [
    {
     "data": {
      "text/plain": [
       "(array([0, 0, 1, 2, 2, 3, 3, 3, 4, 4, 4, 4, 5, 5, 5]),\n",
       " array([1, 2, 1, 3, 4, 0, 2, 4, 0, 1, 2, 4, 0, 1, 3]))"
      ]
     },
     "execution_count": 56,
     "metadata": {},
     "output_type": "execute_result"
    }
   ],
   "source": [
    "#14\n",
    "np.nonzero(mat > np.mean(mat, axis=0))"
   ]
  },
  {
   "cell_type": "code",
   "execution_count": 58,
   "metadata": {},
   "outputs": [
    {
     "name": "stdout",
     "output_type": "stream",
     "text": [
      "[[46  3 29]\n",
      " [35 39 18]\n",
      " [20 43 23]]\n"
     ]
    },
    {
     "data": {
      "text/plain": [
       "array([[2966, 2249, 1716],\n",
       "       [2249, 3070, 2791],\n",
       "       [1716, 2791, 2778]])"
      ]
     },
     "execution_count": 58,
     "metadata": {},
     "output_type": "execute_result"
    }
   ],
   "source": [
    "np.random.seed(123)\n",
    "M = np.random.randint(1, 50, size=(3,3))\n",
    "print(M)\n",
    "#15\n",
    "np.dot(M,np.transpose(M))"
   ]
  },
  {
   "cell_type": "code",
   "execution_count": 60,
   "metadata": {},
   "outputs": [
    {
     "data": {
      "text/plain": [
       "25347.999999999975"
      ]
     },
     "execution_count": 60,
     "metadata": {},
     "output_type": "execute_result"
    }
   ],
   "source": [
    "#16\n",
    "np.linalg.det(M)"
   ]
  },
  {
   "cell_type": "code",
   "execution_count": 61,
   "metadata": {},
   "outputs": [
    {
     "data": {
      "text/plain": [
       "array([[ 0.00485245,  0.04647309, -0.04248856],\n",
       "       [-0.01755563,  0.0188575 ,  0.00737731],\n",
       "       [ 0.02860186, -0.07566672,  0.06663248]])"
      ]
     },
     "execution_count": 61,
     "metadata": {},
     "output_type": "execute_result"
    }
   ],
   "source": [
    "#17\n",
    "np.linalg.inv(M)"
   ]
  },
  {
   "cell_type": "code",
   "execution_count": null,
   "metadata": {},
   "outputs": [],
   "source": []
  }
 ],
 "metadata": {
  "kernelspec": {
   "display_name": "Python 3",
   "language": "python",
   "name": "python3"
  },
  "language_info": {
   "codemirror_mode": {
    "name": "ipython",
    "version": 3
   },
   "file_extension": ".py",
   "mimetype": "text/x-python",
   "name": "python",
   "nbconvert_exporter": "python",
   "pygments_lexer": "ipython3",
   "version": "3.7.6"
  }
 },
 "nbformat": 4,
 "nbformat_minor": 4
}
