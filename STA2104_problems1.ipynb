{
 "cells": [
  {
   "cell_type": "markdown",
   "metadata": {},
   "source": [
    "1. Calculate the following.\n",
    "    1. The roots of the quadratic equation ax^2+bx+c=0 is (-b±√(b^2-4ac))/2a. Find the roots when a=2,b=-1,c=-15.\n",
    "    2. Consider the Normal pdf function f(x;μ,σ^2 )=1/(√2π σ) exp⁡{-〖(x-μ)〗^2/(2σ^2 )} with the parameters μ=2,σ^2=3. What is the value of f(x=1)."
   ]
  },
  {
   "cell_type": "code",
   "execution_count": 1,
   "metadata": {},
   "outputs": [
    {
     "name": "stdout",
     "output_type": "stream",
     "text": [
      "(-2.5, 3.0)\n"
     ]
    }
   ],
   "source": [
    "import math\n",
    "def quad_sol(a,b,c):\n",
    "    qs = ((-b-math.sqrt(b**2-4*a*c))/(2*a), (-b+math.sqrt(b**2-4*a*c))/(2*a))\n",
    "    return qs\n",
    "print(quad_sol(2,-1,-15))"
   ]
  },
  {
   "cell_type": "code",
   "execution_count": 2,
   "metadata": {},
   "outputs": [
    {
     "data": {
      "text/plain": [
       "0.19496965572274114"
      ]
     },
     "execution_count": 2,
     "metadata": {},
     "output_type": "execute_result"
    }
   ],
   "source": [
    "def normpdf(x, mu=0, sigma=1):\n",
    "    return 1/(math.sqrt(2*math.pi)*sigma)*math.exp(-(x-mu)**2/(2*(sigma**2)))\n",
    "normpdf(1,2,math.sqrt(3))"
   ]
  },
  {
   "cell_type": "markdown",
   "metadata": {},
   "source": [
    "2.\tCreate the following list object ‘grade’.\n",
    "> grade=['A', 'B', 'C', 'D', 'F']\n",
    "\n",
    "    1. Using the list ‘grade’, create the string object ‘grade_str’ as follows.\n",
    "> grade_str\n",
    "'ABCDF'\n",
    "    2. Modify ‘grade_str’ in (1) as follows.\n",
    "> grade_str\n",
    "'ABCDFFF'\n",
    "    3. Modify ‘grade_str’ in (2) as follows.\n",
    "> grade_str\n",
    "'ABCDFFFDCBA'\n",
    "    4. Count the number of ‘A’ in ‘grade_str’.\n",
    "    5. Present 4 different slicing expression to extract ‘FFF’ in ‘grade_str’. \n",
    "    6. Modify ‘grade_str’ in (3) as the following.\n",
    "> grade_str\n",
    "ABCDAAADCBA\n",
    "    7. Check whether ‘F’ exists in ‘grade_str’. \n",
    "    8. Change all letters of ‘grade_str’ to lower case."
   ]
  },
  {
   "cell_type": "code",
   "execution_count": 3,
   "metadata": {},
   "outputs": [
    {
     "name": "stdout",
     "output_type": "stream",
     "text": [
      "ABCDF\n",
      "ABCDFFF\n",
      "ABCDFFFDCBA\n",
      "FFF FFF FFF FFF\n"
     ]
    },
    {
     "data": {
      "text/plain": [
       "'abcdfffdcba'"
      ]
     },
     "execution_count": 3,
     "metadata": {},
     "output_type": "execute_result"
    }
   ],
   "source": [
    "grade=['A', 'B', 'C', 'D', 'F']\n",
    "grade_str = grade[0]+grade[1]+grade[2]+grade[3]+grade[4] ; print(grade_str)\n",
    "grade_str = grade_str+grade[4]*2 ; print(grade_str)\n",
    "grade_str = grade_str+grade_str[3::-1]; print(grade_str)\n",
    "grade_str.count('A')\n",
    "print(grade_str[4:7], grade_str[-7:-4], grade_str[6:3:-1], grade_str[-5:-8:-1])\n",
    "grade_str.replace('FFF','AAA')\n",
    "'F' in grade_str\n",
    "grade_str.lower()"
   ]
  },
  {
   "cell_type": "markdown",
   "metadata": {},
   "source": [
    "3. Create the following list object ‘days’.\n",
    "> days = ['Mon', 'Tues', 'Wed', 'Thur', 'Fri', ['Sat', 'Sun']]\n",
    "\n",
    "    1. Store the copy of ‘days’ as the variable ‘days2’.\n",
    "    2. Extract the followings from ‘days2’. \n",
    "        1. [['Sat', 'Sun']]\n",
    "        2. ['Mon', 'Wed', 'Fri']\n",
    "        3. [['Sat', 'Sun'], ‘Thur’, ‘Tues’]\n",
    "        4. [‘Fri’, ‘Tues’]\n",
    "        5. ‘Sat’\n",
    "    3. Modify ‘days2’ as follows.\n",
    "> days2\n",
    "[['Mon', 'Tues', 'Wed', 'Thur', 'Fri'], 'Sat', 'Sun']\n",
    "\n",
    "    4. Modify ‘days2’ in (3) as follows, by removing the 2 items 'Wed' and 'Fri'. \n",
    "> days2\n",
    "[['Mon', 'Tues', 'Thur'], 'Sat', 'Sun']\n",
    "\n",
    "    5. Modify ‘days2’ in (4) as follows ng, by inserting ‘W’ at the given position. \n",
    "> days2\n",
    "[['Mon', 'Tues', ‘W’, 'Thur'], 'Sat', 'Sun']"
   ]
  },
  {
   "cell_type": "code",
   "execution_count": 6,
   "metadata": {},
   "outputs": [
    {
     "name": "stdout",
     "output_type": "stream",
     "text": [
      "['Sat', 'Sun']\n",
      "['Mon', 'Wed', 'Fri']\n",
      "[['Sat', 'Sun'], 'Thur', 'Tues']\n",
      "['Fri', 'Tues']\n",
      "Sat\n",
      "[['Mon', 'Tues', 'Wed', 'Thur', 'Fri'], 'Sat', 'Sun']\n",
      "[['Mon', 'Tues', 'Thur'], 'Sat', 'Sun']\n",
      "[['Mon', 'Tues', 'W', 'Thur'], 'Sat', 'Sun']\n"
     ]
    }
   ],
   "source": [
    "days = ['Mon', 'Tues', 'Wed', 'Thur', 'Fri', ['Sat', 'Sun']]\n",
    "#1 \n",
    "days=days.copy()\n",
    "#2\n",
    "print(days[5])\n",
    "print(days[::2])\n",
    "print(days[::-2])\n",
    "print(days[-2::-3])\n",
    "print(days[5][0])\n",
    "#3\n",
    "days2 = [days[0:5]]+days[5]; print(days2)\n",
    "#4\n",
    "del days2[0][2::2]; print(days2)\n",
    "#5\n",
    "days2[0].insert(2,'W'); print(days2)"
   ]
  },
  {
   "cell_type": "markdown",
   "metadata": {},
   "source": [
    "### Number 4"
   ]
  },
  {
   "cell_type": "code",
   "execution_count": 13,
   "metadata": {},
   "outputs": [
    {
     "name": "stdout",
     "output_type": "stream",
     "text": [
      "[1, 5, 2, 7, 3, 6, 4, 7]\n",
      "[7, 7, 6, 5, 4, 3, 2, 1]\n"
     ]
    }
   ],
   "source": [
    "Nums = [1, 5, 2, 7, 3, 6, 4]\n",
    "#1\n",
    "Nums.append(max(Nums)); print(Nums)\n",
    "#2\n",
    "Nums.sort(); Nums=Nums[::-1]; print(Nums)\n",
    "#3\n",
    "Nums[]"
   ]
  },
  {
   "cell_type": "code",
   "execution_count": null,
   "metadata": {},
   "outputs": [],
   "source": []
  }
 ],
 "metadata": {
  "kernelspec": {
   "display_name": "Python 3",
   "language": "python",
   "name": "python3"
  },
  "language_info": {
   "codemirror_mode": {
    "name": "ipython",
    "version": 3
   },
   "file_extension": ".py",
   "mimetype": "text/x-python",
   "name": "python",
   "nbconvert_exporter": "python",
   "pygments_lexer": "ipython3",
   "version": "3.7.6"
  }
 },
 "nbformat": 4,
 "nbformat_minor": 4
}
